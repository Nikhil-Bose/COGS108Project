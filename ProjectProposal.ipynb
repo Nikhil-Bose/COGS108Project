{
 "cells": [
  {
   "cell_type": "markdown",
   "metadata": {},
   "source": [
    "# COGS 108 - Project Proposal"
   ]
  },
  {
   "cell_type": "markdown",
   "metadata": {},
   "source": [
    "## Important\n",
    "\n",
    "- Make sure all group members (3-5 people) are listed in the group members section.\n",
    "- ONE, and only one, member of your group should upload this notebook to TritonED. \n",
    "- Each member of the group will receive the same grade on this assignment. \n",
    "- Keep the file name the same: submit the file 'ProjectProposal.ipynb'"
   ]
  },
  {
   "cell_type": "markdown",
   "metadata": {},
   "source": [
    "## Overview"
   ]
  },
  {
   "cell_type": "markdown",
   "metadata": {},
   "source": [
    "Read the project description and detailed instructions for this assignment in the 'ProjectOutline' document."
   ]
  },
  {
   "cell_type": "markdown",
   "metadata": {},
   "source": [
    "## Group Members: Fill in the Student IDs of each group member here\n",
    "\n",
    "Replace the lines below to list each persons full student ID. Add lines as needed for your group size, and make sure each ID is listed on a separate line. \n",
    "\n",
    "- A12735963\n",
    "- A13103130\n",
    "- A92071779\n",
    "- A13036250\n",
    "- A12956077"
   ]
  },
  {
   "cell_type": "markdown",
   "metadata": {},
   "source": [
    "### Research Question\n",
    "\n",
    "What is your research question? (1-2 sentences)"
   ]
  },
  {
   "cell_type": "markdown",
   "metadata": {},
   "source": [
    "1. What socioeconomic factors are correlated with an increase in rates of homelessness?"
   ]
  },
  {
   "cell_type": "markdown",
   "metadata": {},
   "source": [
    "### Hypothesis\n",
    "\n",
    "What is your main hypothesis and predictions? (2-3 sentences)"
   ]
  },
  {
   "cell_type": "markdown",
   "metadata": {},
   "source": [
    "We believe that increasing housing prices, in association with high drug percentage of drug abuse are correlated with high percentages of homelessness. "
   ]
  },
  {
   "cell_type": "markdown",
   "metadata": {},
   "source": [
    "### Dataset(s)\n",
    "\n",
    "What data will you use to answer your question? Describe the dataset(s) in terms of number of observations, what kind of features it contains, etc. You must use at least one dataset containing at least approximately 1000 observations (if your data are smaller but you feel they are sufficient, email Prof. Voytek). You are welcome (and in fact recommended) to find multiple datasets! If you do so, describe each one, and briefly explain how you will combine them together. "
   ]
  },
  {
   "cell_type": "markdown",
   "metadata": {},
   "source": [
    "*Fill in your dataset information here*\n",
    "\n",
    "(Copy this information for each dataset)\n",
    "- Dataset Name:\n",
    "- Link to the dataset:\n",
    "- Number of observations:\n",
    "- 1-2 sentences describing the dataset. \n",
    "\n",
    "If you plan to use multiple datasets, add 1-2 sentences about how you plan to combine these datasets.\n",
    "\n",
    "1)\n",
    "- Dataset Name: Zillow: Median Listing Price (1 Bedroom)\n",
    "- Link to the dataset:https://www.kaggle.com/zillow/median-listing-price-1-bedroom/data\n",
    "- Number of observations: 66\n",
    "- 1-2 sentences describing the dataset : Housing data in big metropolitan cities, taken from housing data portal Zillow.\n",
    "\n",
    "2) \n",
    "- Dataset Name: Map of Drug Possession Charges\n",
    "- Link to the dataset: https://data.lacity.org/A-Safe-City/Map-of-drug-possession-charges/isxh-ztfe\n",
    "- Number of observations: 48584\n",
    "- 1-2 sentences describing the dataset : A map of the number of drug possession charges from around the LA area.\n",
    "\n",
    "3) \n",
    "- Dataset Name: Crime, Homeless Victims\n",
    "- Link to the dataset: https://data.lacity.org/A-Safe-City/Crime-Homeless-Victim-8-16-8-17/djbj-9vsp\n",
    "- Number of observations: 2711\n",
    "- 1-2 sentences describing the dataset : A dataset on incidents of crime in LA with homeless victims.\n",
    "\n",
    "4)\n",
    "- Dataset Name: Housing & Community Investment Locations\n",
    "- Link to the dataset: https://data.lacity.org/A-Livable-and-Sustainable-City/Housing-Community-Investment-Service-Locations/29cn-rph9\n",
    "- Number of observations:26\n",
    "- 1-2 sentences describing the dataset : Locations of offices associated with the LA Housing and Community Investment Department which provide services to the people of LA.\n",
    "\n",
    "1 - 2 sentences about how we plan to combine these data sets:\n",
    "We plan to use cross-correlational methods to see if there seem to be any correlations between homelessness, increasing housing prices, "
   ]
  },
  {
   "cell_type": "markdown",
   "metadata": {},
   "source": [
    "### Background and Prior Work\n",
    "\n",
    "Why is this question of interest, what background information led you to your hypothesis, and why is this important?\n",
    "\n",
    "Find some relevant prior work, and reference those sources. Even if you think you have a totally novel question, find the most similar prior work that you can and discuss how it relates to your project. \n",
    "\n",
    "References can be research publications, but they need not be. Blogs, github repositories, company websites, etc., are all viable references if they are relevant to your project.\n",
    "\n",
    "(2-3 paragraphs, including at least 2 references)"
   ]
  },
  {
   "cell_type": "markdown",
   "metadata": {},
   "source": [
    "Our group wanted to find a social issue/problem that is currently making an impact on our local community. As students we know that upon entering the workforce and the “real” world, we will face many obstacles, one being the cost of living. Big cities such as San Diego, Los Angeles, and San Francisco have seen a rise in the cost of rent and living.\n",
    "\n",
    "From that we came to the question of just how this rise in cost of living has impacted the rate of homelessness in America. Homelessness is a problem that is complex and visible. It is a very debated subject due to the fact that there are a variety of factors that lead to it. With the high cost of living, we also wanted to see what other factors have also impacted homelessness. We decided to look at drug abuse/crimes and see if there is a connection with rate of homelessness. This is a very important topic since it is impacting over half a million of US citizens today. \n",
    "\n",
    "\n",
    "References (include links):\n",
    "- 1) Homeless in America, Homeless in California (https://cloudfront.escholarship.org/dist/prd/content/qt4v61c0ws/qt4v61c0ws.pdf)\n",
    "- 2) Article talking about the rise of homelessness with statistics from United States Department of Housing and Urban (HUD)Development(https://www.citylab.com/equity/2017/12/homelessness-in-high-cost-cities-is-driving-a-nationwide-increase/547763/)"
   ]
  },
  {
   "cell_type": "markdown",
   "metadata": {},
   "source": [
    "### Proposed Methods\n",
    "\n",
    "What methods will you use to analyze your data?\n",
    "\n",
    "- How 'clean' is the data? To the extent that it requires cleaning, how will you do so?\n",
    "- How will you analyze the data? Be as specific as you can. Briefly mention any pre-processing steps that are required for your methods (for example, checking data distributions and performing any transformations that may be required). Include a brief outline of how you will apply your chosen method(s). \n",
    "- What do you plan to report? Briefly mention any key visualizations you plan to create, and/or the kind of results you will be able to report that address your question (this could be, for example, the outcome of some statistical test(s), prediction error on a model, a model fit parameter, etc.).\n",
    "- Include a list of packages you expect to use for you project. If you plan to use packages we have not used in class, add a very brief description about them (a few words is sufficient). "
   ]
  },
  {
   "cell_type": "markdown",
   "metadata": {},
   "source": [
    "*Fill in your proposed methods information here:*\n",
    "\n",
    "*Data Cleaning (2-3 sentences)*\n",
    "\n",
    "*Data Analysis (1-2 paragraphs)*\n",
    "\n",
    "*What to report (2-3 sentences)*\n",
    "\n",
    "^ Everything above is explained in the paragraphs below: \n",
    "\n",
    "We will primarily be using pre-cleaned datasets published by various reputable sources. The various dimensions of those datasets are packaged with a corresponding list of definitions. As a result, we do not anticipate spending too much effort on actually cleaning and standardizing our data. We will, however, need to inspect the contents of our datasets to strip away the particular dimensions that are either too specific for the scope of our study or contain too few points for meaningful analysis. Similarly, we also expect to spend much of our time dealing with the challenges of merging together and associating the features of our different types of data. Finally, we will need to apply correctional methods specific to our data sources (e.g. adjusting Zillow pricing data to adjust for inflation and accounting for the overall rates of increase in population numbers)\n",
    "\n",
    "\tDue to the time series nature of our datasets, our study will primarily be of a cross-correlational nature. By associating together multiple differing time series (i.e. rate of homelessness in Los Angeles against drug use or crime rates), we will attempt to identify various factors which might be used as an indicator or predictor of increased rates of homelessness. We anticipate our initial efforts in the study will focus on the analysis of Los Angeles on the county level. However, depending on our evaluation of the reliability and accuracy of our datasets, we may expand upon our analysis to add a dimension of geography to our study by analyzing trends and characteristics of different regions within the Los Angeles county on the city level.\n",
    "    \n",
    "\tWe plan to report how much of the trend of changes in the rates of homelessness can be attributed to various factors such as drug usage and crime rates in the Los Angeles county. Among the visualizations we expect to produce from this study include time series graphs representing our multiple datasets, as well as scatter plots to show the presence or absence of a correlation between various moving averages. If we proceed with analyzing our Los Angeles datasets at the county level, then we will also be producing chloropleth maps to visualize the distribution of factors across time.\n",
    "\n",
    "\n",
    "Packages we plan to use:\n",
    "- pandas\n",
    "- numpy\n",
    "- matplotlib\n",
    "- seaborn - “[High-level Python interface] visualization library based on matplotlib”\n",
    "- geoplotlib - “Python toolbox for visualizing geographical data and making maps”"
   ]
  },
  {
   "cell_type": "markdown",
   "metadata": {},
   "source": [
    "### Ethics and Privacy\n",
    "\n",
    "Briefly acknowledge and address any potential issues of ethics and privacy for the proposed project. In particular:\n",
    "- Do you have permission to use this data, for this purpose?\n",
    "- Are there privacy concerns regarding your datasets that you need to deal with, and/or terms of use that you need to comply with?\n",
    "- Are there potential biases in your dataset(s), in terms of who it composes, and how it was collected, that may be problematic in terms of it allowing for equitable analysis? (For example, does your data exclude particular populations, or is it likely to reflect particular human biases in a way that could be a problem?) \n",
    "- Are there any other issues related to your topic area, data, and/or analyses that are potentially problematic in terms of data privacy and equitable impact?\n",
    "- How will you handle any issues you identify?\n",
    "\n",
    "All of the datasets that we’ll be dealing with are public and do not have restrictions that the range of this proposed project would compromise. One aspect of our data that may cause concern is how we do have crime and drug charge data, but all users are anonymized in the datasets so all we have access to is the geographical location and time points, but not the identities of the people that have committed the crimes themselves. Some other potential biases that we may need to watch out for, are that the datasets represent a wide range of datasets (from sizes of 26 to 48584), and they’re from geographically different communities at different time periods. We will also need to proceed with the understanding that these datasets are not holistic, as the data only covers what was obtained (there may be “data points” that were not collected).  As described earlier in the Proposed Methods section, we will do our best to account for these biases by applying correctional methods in a cross-correlational way. "
   ]
  },
  {
   "cell_type": "markdown",
   "metadata": {},
   "source": [
    "### Discussion\n",
    "\n",
    "Discuss your project, looking forward to what your results might mean, how they fit it in with what is already known, and what problems you may encounter. \n",
    "\n",
    "In particular:\n",
    "- If your analyses and hypotheses are correct, what will be the contribution of this project to the topic domain? \n",
    "- Alternatively, what will you do if you methods don't work and/or your hypotheses are wrong? \n",
    "- What are the potential pitfalls and potential confounds of your data and/or methods that may cause problems, and/or influence your interpretations?\n",
    "\n",
    "(2-3 paragraphs)"
   ]
  },
  {
   "cell_type": "markdown",
   "metadata": {},
   "source": [
    "Homelessness is a increasing prevalent problem that is need of a further attention and understanding. Many people see the effects of this societal problem, but rarely understand how or why it occurs. If our analyses and hypotheses are correct, this project will allow government agencies, non-profits and homeless shelters to better understand why the it happens, and therefore act upon it. We want people to be able to use this information to help the people affected out, and better provide for their needs.\n",
    "\n",
    "However, if our hypothesis are not proven true, we will realize that homeless is caused by a myriad of factors that can not be attributed to one specific cause - this also calls for a change in public opinion of those affected. There are potential bottlenecks with some of the methods and analyses we are planning on using: specifically the data will be mostly in retrospect. Most people affected by homelessness do not have access to a computer, and are not able to participate in online surveys that are a big source of data for information such as drug usage.\n"
   ]
  }
 ],
 "metadata": {
  "kernelspec": {
   "display_name": "Python 3",
   "language": "python",
   "name": "python3"
  },
  "language_info": {
   "codemirror_mode": {
    "name": "ipython",
    "version": 3
   },
   "file_extension": ".py",
   "mimetype": "text/x-python",
   "name": "python",
   "nbconvert_exporter": "python",
   "pygments_lexer": "ipython3",
   "version": "3.6.2"
  }
 },
 "nbformat": 4,
 "nbformat_minor": 2
}
